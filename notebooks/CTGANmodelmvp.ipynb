{
 "cells": [
  {
   "cell_type": "code",
   "execution_count": 1,
   "id": "5d18610c-45c4-4e3a-9bd0-d01bd4c77d0c",
   "metadata": {},
   "outputs": [
    {
     "name": "stdout",
     "output_type": "stream",
     "text": [
      "2.2.2\n"
     ]
    }
   ],
   "source": [
    "import torch\n",
    "print(torch.__version__)"
   ]
  },
  {
   "cell_type": "code",
   "execution_count": 2,
   "id": "74b57e5a-0634-4888-a923-2345986e6f84",
   "metadata": {},
   "outputs": [],
   "source": [
    "import os\n",
    "os.environ[\"MKL_THREADING_LAYER\"] = \"TBB\""
   ]
  },
  {
   "cell_type": "code",
   "execution_count": 3,
   "id": "81b37cd8-9ee9-4ece-a0c7-a1990910a805",
   "metadata": {},
   "outputs": [
    {
     "name": "stderr",
     "output_type": "stream",
     "text": [
      "/Library/Frameworks/Python.framework/Versions/3.12/lib/python3.12/site-packages/threadpoolctl.py:1214: RuntimeWarning: \n",
      "Found Intel OpenMP ('libiomp') and LLVM OpenMP ('libomp') loaded at\n",
      "the same time. Both libraries are known to be incompatible and this\n",
      "can cause random crashes or deadlocks on Linux when loaded in the\n",
      "same Python program.\n",
      "Using threadpoolctl may cause crashes or deadlocks. For more\n",
      "information and possible workarounds, please see\n",
      "    https://github.com/joblib/threadpoolctl/blob/master/multiple_openmp.md\n",
      "\n",
      "  warnings.warn(msg, RuntimeWarning)\n"
     ]
    },
    {
     "data": {
      "text/plain": [
       "['CTGAN',\n",
       " 'TVAE',\n",
       " '__all__',\n",
       " '__author__',\n",
       " '__builtins__',\n",
       " '__cached__',\n",
       " '__doc__',\n",
       " '__email__',\n",
       " '__file__',\n",
       " '__loader__',\n",
       " '__name__',\n",
       " '__package__',\n",
       " '__path__',\n",
       " '__spec__',\n",
       " '__version__',\n",
       " 'data_sampler',\n",
       " 'data_transformer',\n",
       " 'demo',\n",
       " 'load_demo',\n",
       " 'synthesizers']"
      ]
     },
     "execution_count": 3,
     "metadata": {},
     "output_type": "execute_result"
    }
   ],
   "source": [
    "import ctgan\n",
    "dir(ctgan)\n"
   ]
  },
  {
   "cell_type": "code",
   "execution_count": 1,
   "id": "80133ceb-5aa0-41bc-a36c-c5196c39eb1d",
   "metadata": {},
   "outputs": [
    {
     "name": "stderr",
     "output_type": "stream",
     "text": [
      "/Library/Frameworks/Python.framework/Versions/3.12/lib/python3.12/site-packages/threadpoolctl.py:1214: RuntimeWarning: \n",
      "Found Intel OpenMP ('libiomp') and LLVM OpenMP ('libomp') loaded at\n",
      "the same time. Both libraries are known to be incompatible and this\n",
      "can cause random crashes or deadlocks on Linux when loaded in the\n",
      "same Python program.\n",
      "Using threadpoolctl may cause crashes or deadlocks. For more\n",
      "information and possible workarounds, please see\n",
      "    https://github.com/joblib/threadpoolctl/blob/master/multiple_openmp.md\n",
      "\n",
      "  warnings.warn(msg, RuntimeWarning)\n"
     ]
    }
   ],
   "source": [
    "import pandas as pd\n",
    "import numpy as np\n",
    "from ctgan import CTGAN\n",
    "from sklearn.model_selection import train_test_split\n",
    "from sklearn.ensemble import RandomForestClassifier\n",
    "from sklearn.metrics import accuracy_score, roc_auc_score, f1_score\n",
    "from sklearn.preprocessing import StandardScaler, OneHotEncoder\n",
    "from sklearn.impute import SimpleImputer\n",
    "from sklearn.compose import ColumnTransformer\n",
    "from sklearn.pipeline import Pipeline\n",
    "from scipy.stats import ks_2samp, chi2_contingency\n",
    "import time"
   ]
  },
  {
   "cell_type": "code",
   "execution_count": 2,
   "id": "925b8f53-77be-4b8a-9662-01b450de034b",
   "metadata": {},
   "outputs": [],
   "source": [
    "df = pd.read_csv(\"com_salary.csv\")"
   ]
  },
  {
   "cell_type": "code",
   "execution_count": 7,
   "id": "1a658589-8e40-4f30-bf36-0b0110cf3f60",
   "metadata": {},
   "outputs": [
    {
     "data": {
      "text/html": [
       "<div>\n",
       "<style scoped>\n",
       "    .dataframe tbody tr th:only-of-type {\n",
       "        vertical-align: middle;\n",
       "    }\n",
       "\n",
       "    .dataframe tbody tr th {\n",
       "        vertical-align: top;\n",
       "    }\n",
       "\n",
       "    .dataframe thead th {\n",
       "        text-align: right;\n",
       "    }\n",
       "</style>\n",
       "<table border=\"1\" class=\"dataframe\">\n",
       "  <thead>\n",
       "    <tr style=\"text-align: right;\">\n",
       "      <th></th>\n",
       "      <th>Name</th>\n",
       "      <th>OttoneuID</th>\n",
       "      <th>FG MajorLeagueID</th>\n",
       "      <th>FG MinorLeagueID</th>\n",
       "      <th>MLB Org</th>\n",
       "      <th>Position(s)</th>\n",
       "      <th>Avg Salary</th>\n",
       "      <th>Median Salary</th>\n",
       "      <th>Min Salary</th>\n",
       "      <th>Max Salary</th>\n",
       "      <th>...</th>\n",
       "      <th>POS</th>\n",
       "      <th>ADP</th>\n",
       "      <th>rPTS</th>\n",
       "      <th>PTS</th>\n",
       "      <th>aPOS</th>\n",
       "      <th>Dollars</th>\n",
       "      <th>Adjusted</th>\n",
       "      <th>Cost</th>\n",
       "      <th>PlayerId</th>\n",
       "      <th>value</th>\n",
       "    </tr>\n",
       "  </thead>\n",
       "  <tbody>\n",
       "    <tr>\n",
       "      <th>0</th>\n",
       "      <td>Juan Soto</td>\n",
       "      <td>23717</td>\n",
       "      <td>20123.0</td>\n",
       "      <td>sa906282</td>\n",
       "      <td>NYY</td>\n",
       "      <td>OF</td>\n",
       "      <td>60.31</td>\n",
       "      <td>60.0</td>\n",
       "      <td>34</td>\n",
       "      <td>84</td>\n",
       "      <td>...</td>\n",
       "      <td>OF/DH</td>\n",
       "      <td>10.57</td>\n",
       "      <td>1132.535865</td>\n",
       "      <td>53.429347</td>\n",
       "      <td>21.885623</td>\n",
       "      <td>76.314969</td>\n",
       "      <td>112.280793</td>\n",
       "      <td>NaN</td>\n",
       "      <td>20123</td>\n",
       "      <td>0.000000</td>\n",
       "    </tr>\n",
       "    <tr>\n",
       "      <th>1</th>\n",
       "      <td>Mookie Betts</td>\n",
       "      <td>18276</td>\n",
       "      <td>13611.0</td>\n",
       "      <td>sa597889</td>\n",
       "      <td>LAD</td>\n",
       "      <td>2B/SS/OF</td>\n",
       "      <td>58.35</td>\n",
       "      <td>58.0</td>\n",
       "      <td>38</td>\n",
       "      <td>87</td>\n",
       "      <td>...</td>\n",
       "      <td>2B/SS/OF</td>\n",
       "      <td>5.03</td>\n",
       "      <td>1036.172159</td>\n",
       "      <td>40.095221</td>\n",
       "      <td>14.934803</td>\n",
       "      <td>56.030024</td>\n",
       "      <td>82.308998</td>\n",
       "      <td>NaN</td>\n",
       "      <td>13611</td>\n",
       "      <td>0.000000</td>\n",
       "    </tr>\n",
       "    <tr>\n",
       "      <th>2</th>\n",
       "      <td>Shohei Ohtani</td>\n",
       "      <td>33600</td>\n",
       "      <td>19755.0</td>\n",
       "      <td>NaN</td>\n",
       "      <td>LAD</td>\n",
       "      <td>Util/SP</td>\n",
       "      <td>56.13</td>\n",
       "      <td>56.0</td>\n",
       "      <td>32</td>\n",
       "      <td>88</td>\n",
       "      <td>...</td>\n",
       "      <td>P/DH</td>\n",
       "      <td>12.73</td>\n",
       "      <td>1038.276653</td>\n",
       "      <td>40.386426</td>\n",
       "      <td>12.178202</td>\n",
       "      <td>53.564628</td>\n",
       "      <td>75.049219</td>\n",
       "      <td>54.0</td>\n",
       "      <td>19755</td>\n",
       "      <td>-0.435372</td>\n",
       "    </tr>\n",
       "    <tr>\n",
       "      <th>3</th>\n",
       "      <td>Aaron Judge</td>\n",
       "      <td>18312</td>\n",
       "      <td>15640.0</td>\n",
       "      <td>sa549847</td>\n",
       "      <td>NYY</td>\n",
       "      <td>OF</td>\n",
       "      <td>54.17</td>\n",
       "      <td>54.5</td>\n",
       "      <td>33</td>\n",
       "      <td>70</td>\n",
       "      <td>...</td>\n",
       "      <td>OF/DH</td>\n",
       "      <td>11.16</td>\n",
       "      <td>1066.255227</td>\n",
       "      <td>44.257902</td>\n",
       "      <td>21.885623</td>\n",
       "      <td>67.143525</td>\n",
       "      <td>93.070498</td>\n",
       "      <td>50.0</td>\n",
       "      <td>15640</td>\n",
       "      <td>17.143525</td>\n",
       "    </tr>\n",
       "    <tr>\n",
       "      <th>4</th>\n",
       "      <td>Freddie Freeman</td>\n",
       "      <td>5680</td>\n",
       "      <td>5361.0</td>\n",
       "      <td>sa390291</td>\n",
       "      <td>LAD</td>\n",
       "      <td>1B</td>\n",
       "      <td>50.76</td>\n",
       "      <td>51.0</td>\n",
       "      <td>27</td>\n",
       "      <td>74</td>\n",
       "      <td>...</td>\n",
       "      <td>1B</td>\n",
       "      <td>8.81</td>\n",
       "      <td>1062.235872</td>\n",
       "      <td>43.701733</td>\n",
       "      <td>13.809086</td>\n",
       "      <td>58.510819</td>\n",
       "      <td>81.663561</td>\n",
       "      <td>47.0</td>\n",
       "      <td>5361</td>\n",
       "      <td>11.510819</td>\n",
       "    </tr>\n",
       "  </tbody>\n",
       "</table>\n",
       "<p>5 rows × 23 columns</p>\n",
       "</div>"
      ],
      "text/plain": [
       "              Name  OttoneuID  FG MajorLeagueID FG MinorLeagueID MLB Org  \\\n",
       "0        Juan Soto      23717           20123.0         sa906282     NYY   \n",
       "1     Mookie Betts      18276           13611.0         sa597889     LAD   \n",
       "2    Shohei Ohtani      33600           19755.0              NaN     LAD   \n",
       "3      Aaron Judge      18312           15640.0         sa549847     NYY   \n",
       "4  Freddie Freeman       5680            5361.0         sa390291     LAD   \n",
       "\n",
       "  Position(s)  Avg Salary  Median Salary  Min Salary  Max Salary  ...  \\\n",
       "0          OF       60.31           60.0          34          84  ...   \n",
       "1    2B/SS/OF       58.35           58.0          38          87  ...   \n",
       "2     Util/SP       56.13           56.0          32          88  ...   \n",
       "3          OF       54.17           54.5          33          70  ...   \n",
       "4          1B       50.76           51.0          27          74  ...   \n",
       "\n",
       "        POS    ADP         rPTS        PTS       aPOS    Dollars    Adjusted  \\\n",
       "0     OF/DH  10.57  1132.535865  53.429347  21.885623  76.314969  112.280793   \n",
       "1  2B/SS/OF   5.03  1036.172159  40.095221  14.934803  56.030024   82.308998   \n",
       "2      P/DH  12.73  1038.276653  40.386426  12.178202  53.564628   75.049219   \n",
       "3     OF/DH  11.16  1066.255227  44.257902  21.885623  67.143525   93.070498   \n",
       "4        1B   8.81  1062.235872  43.701733  13.809086  58.510819   81.663561   \n",
       "\n",
       "   Cost  PlayerId      value  \n",
       "0   NaN     20123   0.000000  \n",
       "1   NaN     13611   0.000000  \n",
       "2  54.0     19755  -0.435372  \n",
       "3  50.0     15640  17.143525  \n",
       "4  47.0      5361  11.510819  \n",
       "\n",
       "[5 rows x 23 columns]"
      ]
     },
     "execution_count": 7,
     "metadata": {},
     "output_type": "execute_result"
    }
   ],
   "source": [
    "df.head()"
   ]
  },
  {
   "cell_type": "markdown",
   "id": "9dc58e30-c6ca-4b7e-b949-1cb2372f207e",
   "metadata": {},
   "source": [
    "\n",
    "# Assuming `orig_df` is your original DataFrame with the actual data\n",
    "# Example DataFrame (replace with your actual DataFrame)\n",
    "orig_df = pd.DataFrame({\n",
    "    'OttoneuID': [1, 2, 3, 4, 5],\n",
    "    'FG MajorLeagueID': [1001, 1002, 1003, 1004, 1005],\n",
    "    'Avg Salary': [10, 20, 30, 40, 50],\n",
    "    'Median Salary': [15, 25, 35, 45, 55],\n",
    "    'Min Salary': [5, 10, 15, 20, 25],\n",
    "    'Max Salary': [20, 30, 40, 50, 60],\n",
    "    'Last 10': [7, 8, 9, 10, 11],\n",
    "    'Roster%': [60, 70, 80, 90, 100],\n",
    "    'ADP': [1, 2, 3, 4, 5],\n",
    "    'rPTS': [100, 200, 300, 400, 500],\n",
    "    'PTS': [150, 250, 350, 450, 550],\n",
    "    'aPOS': [1, 2, 3, 4, 5],\n",
    "    'Dollars': [10, 20, 30, 40, 50],\n",
    "    'Adjusted': [5, 10, 15, 20, 25],\n",
    "    'Cost': [2, 4, 6, 8, 10],\n",
    "    'value': [8, 16, 24, 32, 40],\n",
    "    'Name': ['Player1', 'Player2', 'Player3', 'Player4', 'Player5'],\n",
    "    'FG MinorLeagueID': ['ID1', 'ID2', 'ID3', 'ID4', 'ID5'],\n",
    "    'MLB Org': ['TeamA', 'TeamB', 'TeamC', 'TeamD', 'TeamE'],\n",
    "    'Position(s)': ['Pos1', 'Pos2', 'Pos3', 'Pos4', 'Pos5'],\n",
    "    'Team': ['Team1', 'Team2', 'Team3', 'Team4', 'Team5'],\n",
    "    'POS': ['POS1', 'POS2', 'POS3', 'POS4', 'POS5'],\n",
    "    'PlayerId': ['P1', 'P2', 'P3', 'P4', 'P5']\n",
    "})"
   ]
  },
  {
   "cell_type": "code",
   "execution_count": 4,
   "id": "94bbe831-bd2a-464d-a6aa-5fc72eb3b9c4",
   "metadata": {},
   "outputs": [],
   "source": [
    "orig_df = pd.DataFrame(orig_df)"
   ]
  },
  {
   "cell_type": "code",
   "execution_count": 5,
   "id": "f9f44894-6694-4e60-8920-06a7b7e1c971",
   "metadata": {},
   "outputs": [
    {
     "name": "stdout",
     "output_type": "stream",
     "text": [
      "Numeric features: ['OttoneuID', 'FG MajorLeagueID', 'Avg Salary', 'Median Salary', 'Min Salary', 'Max Salary', 'Last 10', 'Roster%', 'ADP', 'rPTS', 'PTS', 'aPOS', 'Dollars', 'Adjusted', 'Cost', 'value']\n",
      "Categorical features: ['Name', 'FG MinorLeagueID', 'MLB Org', 'Position(s)', 'Team', 'POS', 'PlayerId']\n"
     ]
    }
   ],
   "source": [
    "# Selecting numeric and categorical features\n",
    "numeric_features = orig_df.select_dtypes(include=['int64', 'float64']).columns.tolist()\n",
    "categorical_features = orig_df.select_dtypes(include=['object', 'category']).columns.tolist()\n",
    "\n",
    "print(f\"Numeric features: {numeric_features}\")\n",
    "print(f\"Categorical features: {categorical_features}\")"
   ]
  },
  {
   "cell_type": "code",
   "execution_count": 6,
   "id": "4aba124b-fd94-4cb0-bad7-f76d82d126da",
   "metadata": {},
   "outputs": [],
   "source": [
    "# Define transformers\n",
    "numeric_transformer = Pipeline(steps=[\n",
    "    ('scaler', StandardScaler())\n",
    "])\n",
    "\n",
    "categorical_transformer = Pipeline(steps=[\n",
    "    ('encoder', OneHotEncoder())\n",
    "])\n",
    "\n",
    "# Combine transformers into a preprocessor\n",
    "preprocessor = ColumnTransformer(\n",
    "    transformers=[\n",
    "        ('num', numeric_transformer, numeric_features),\n",
    "        ('cat', categorical_transformer, categorical_features)\n",
    "    ]\n",
    ")"
   ]
  },
  {
   "cell_type": "code",
   "execution_count": 39,
   "id": "1a2f5ec2-88f6-466c-b625-112fb1dab778",
   "metadata": {},
   "outputs": [
    {
     "name": "stdout",
     "output_type": "stream",
     "text": [
      "Shape of prepared_data: (5, 51)\n"
     ]
    }
   ],
   "source": [
    "# Fit and transform the data\n",
    "prepared_data = preprocessor.fit_transform(orig_df)\n",
    "\n",
    "# Check if the data is sparse and convert to dense if necessary\n",
    "if hasattr(prepared_data, \"toarray\"):\n",
    "    prepared_data = prepared_data.toarray()\n",
    "\n",
    "# Check the shape of the prepared data\n",
    "print(f\"Shape of prepared_data: {prepared_data.shape}\")"
   ]
  },
  {
   "cell_type": "code",
   "execution_count": 40,
   "id": "82b9ab47-38fa-42b1-93fa-269c84886d94",
   "metadata": {},
   "outputs": [
    {
     "name": "stdout",
     "output_type": "stream",
     "text": [
      "Number of columns in prepared_data: 51\n",
      "Number of column names: 51\n"
     ]
    }
   ],
   "source": [
    "# Get the column names from the transformers\n",
    "numeric_column_names = numeric_features\n",
    "categorical_column_names = preprocessor.named_transformers_['cat']['encoder'].get_feature_names_out(categorical_features)\n",
    "\n",
    "# Combine all column names\n",
    "all_column_names = numeric_column_names + list(categorical_column_names)\n",
    "\n",
    "# Verify the lengths match\n",
    "print(f\"Number of columns in prepared_data: {prepared_data.shape[1]}\")\n",
    "print(f\"Number of column names: {len(all_column_names)}\")"
   ]
  },
  {
   "cell_type": "code",
   "execution_count": 41,
   "id": "05ca3f87-dfbd-4f6d-a3ba-827546ff93ce",
   "metadata": {},
   "outputs": [
    {
     "name": "stdout",
     "output_type": "stream",
     "text": [
      "   OttoneuID  FG MajorLeagueID  Avg Salary  Median Salary  Min Salary  \\\n",
      "0  -1.414214         -1.414214   -1.414214      -1.414214   -1.414214   \n",
      "1  -0.707107         -0.707107   -0.707107      -0.707107   -0.707107   \n",
      "2   0.000000          0.000000    0.000000       0.000000    0.000000   \n",
      "3   0.707107          0.707107    0.707107       0.707107    0.707107   \n",
      "4   1.414214          1.414214    1.414214       1.414214    1.414214   \n",
      "\n",
      "   Max Salary   Last 10   Roster%       ADP      rPTS  ...  POS_POS1  \\\n",
      "0   -1.414214 -1.414214 -1.414214 -1.414214 -1.414214  ...       1.0   \n",
      "1   -0.707107 -0.707107 -0.707107 -0.707107 -0.707107  ...       0.0   \n",
      "2    0.000000  0.000000  0.000000  0.000000  0.000000  ...       0.0   \n",
      "3    0.707107  0.707107  0.707107  0.707107  0.707107  ...       0.0   \n",
      "4    1.414214  1.414214  1.414214  1.414214  1.414214  ...       0.0   \n",
      "\n",
      "   POS_POS2  POS_POS3  POS_POS4  POS_POS5  PlayerId_P1  PlayerId_P2  \\\n",
      "0       0.0       0.0       0.0       0.0          1.0          0.0   \n",
      "1       1.0       0.0       0.0       0.0          0.0          1.0   \n",
      "2       0.0       1.0       0.0       0.0          0.0          0.0   \n",
      "3       0.0       0.0       1.0       0.0          0.0          0.0   \n",
      "4       0.0       0.0       0.0       1.0          0.0          0.0   \n",
      "\n",
      "   PlayerId_P3  PlayerId_P4  PlayerId_P5  \n",
      "0          0.0          0.0          0.0  \n",
      "1          0.0          0.0          0.0  \n",
      "2          1.0          0.0          0.0  \n",
      "3          0.0          1.0          0.0  \n",
      "4          0.0          0.0          1.0  \n",
      "\n",
      "[5 rows x 51 columns]\n"
     ]
    }
   ],
   "source": [
    "# Ensure the lengths match before creating the DataFrame\n",
    "if prepared_data.shape[1] == len(all_column_names):\n",
    "    prepared_df = pd.DataFrame(prepared_data, columns=all_column_names)\n",
    "    print(prepared_df.head())\n",
    "else:\n",
    "    raise ValueError(\"The number of columns in the prepared data does not match the number of column names.\")"
   ]
  },
  {
   "cell_type": "code",
   "execution_count": null,
   "id": "45d615d3-8d2c-4f53-b174-6dbdb1b04a86",
   "metadata": {},
   "outputs": [],
   "source": []
  }
 ],
 "metadata": {
  "kernelspec": {
   "display_name": "Python 3 (ipykernel)",
   "language": "python",
   "name": "python3"
  },
  "language_info": {
   "codemirror_mode": {
    "name": "ipython",
    "version": 3
   },
   "file_extension": ".py",
   "mimetype": "text/x-python",
   "name": "python",
   "nbconvert_exporter": "python",
   "pygments_lexer": "ipython3",
   "version": "3.12.3"
  }
 },
 "nbformat": 4,
 "nbformat_minor": 5
}
