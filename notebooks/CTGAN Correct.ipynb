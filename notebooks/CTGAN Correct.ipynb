{
 "cells": [
  {
   "cell_type": "code",
   "execution_count": 1,
   "id": "34c829bd-541a-4c9e-b601-98baa8ed3c48",
   "metadata": {},
   "outputs": [
    {
     "name": "stdout",
     "output_type": "stream",
     "text": [
      "Environment variables set. Please restart the Jupyter kernel now.\n"
     ]
    }
   ],
   "source": [
    "import os\n",
    "\n",
    "# Set environment variables to control OpenMP and MKL\n",
    "os.environ['KMP_DUPLICATE_LIB_OK'] = 'True'\n",
    "os.environ['KMP_INIT_AT_FORK'] = 'FALSE'\n",
    "os.environ['MKL_THREADING_LAYER'] = 'GNU'\n",
    "\n",
    "# Print to confirm setting environment variables\n",
    "print(\"Environment variables set. Please restart the Jupyter kernel now.\")"
   ]
  },
  {
   "cell_type": "code",
   "execution_count": 1,
   "id": "529032cc-9b38-4627-aeb0-a6a4bde98f69",
   "metadata": {},
   "outputs": [],
   "source": [
    "import pandas as pd\n",
    "\n",
    "# Example data\n",
    "data = {\n",
    "    'categorical_column_1': ['A', 'B', 'A', 'B'],\n",
    "    'categorical_column_2': ['X', 'Y', 'X', 'Y'],\n",
    "    'numeric_column_1': [1, 2, 3, 4],\n",
    "    'numeric_column_2': [5, 6, 7, 8]\n",
    "}\n",
    "\n",
    "# Create DataFrame\n",
    "prepared_df = pd.DataFrame(data)\n",
    "\n",
    "# List of categorical columns\n",
    "categorical_column_names = ['categorical_column_1', 'categorical_column_2']\n",
    "\n",
    "\n"
   ]
  },
  {
   "cell_type": "code",
   "execution_count": 2,
   "id": "aaddea96-b52f-43d6-94b9-8fb6208b9a67",
   "metadata": {},
   "outputs": [
    {
     "name": "stderr",
     "output_type": "stream",
     "text": [
      "/Library/Frameworks/Python.framework/Versions/3.12/lib/python3.12/site-packages/threadpoolctl.py:1214: RuntimeWarning: \n",
      "Found Intel OpenMP ('libiomp') and LLVM OpenMP ('libomp') loaded at\n",
      "the same time. Both libraries are known to be incompatible and this\n",
      "can cause random crashes or deadlocks on Linux when loaded in the\n",
      "same Python program.\n",
      "Using threadpoolctl may cause crashes or deadlocks. For more\n",
      "information and possible workarounds, please see\n",
      "    https://github.com/joblib/threadpoolctl/blob/master/multiple_openmp.md\n",
      "\n",
      "  warnings.warn(msg, RuntimeWarning)\n"
     ]
    }
   ],
   "source": [
    "import time\n",
    "from ctgan import CTGAN\n",
    "from threadpoolctl import threadpool_limits\n",
    "\n",
    "def train_ctgan(prepared_df, categorical_column_names):\n",
    "    with threadpool_limits(limits=1, user_api='blas'):\n",
    "        # Initialize the CTGAN model\n",
    "        epochs = 2  # Adjust the number of epochs as needed\n",
    "        ctgan = CTGAN(epochs=epochs)\n",
    "\n",
    "        start_time = time.time()\n",
    "        ctgan.fit(prepared_df, categorical_column_names)\n",
    "        end_time = time.time()\n",
    "        training_time = end_time - start_time\n",
    "\n",
    "    print(f\"Training time: {training_time} seconds\")"
   ]
  },
  {
   "cell_type": "code",
   "execution_count": 3,
   "id": "5b2b4261-4dc6-4527-a635-8e4e437da79a",
   "metadata": {},
   "outputs": [
    {
     "name": "stdout",
     "output_type": "stream",
     "text": [
      "Training time: 3.045325756072998 seconds\n"
     ]
    }
   ],
   "source": [
    "# Train the CTGAN model\n",
    "train_ctgan(prepared_df, categorical_column_names)"
   ]
  },
  {
   "cell_type": "code",
   "execution_count": null,
   "id": "6e0fb621-79a5-4939-b434-5b92d912df24",
   "metadata": {},
   "outputs": [],
   "source": []
  }
 ],
 "metadata": {
  "kernelspec": {
   "display_name": "Python 3 (ipykernel)",
   "language": "python",
   "name": "python3"
  },
  "language_info": {
   "codemirror_mode": {
    "name": "ipython",
    "version": 3
   },
   "file_extension": ".py",
   "mimetype": "text/x-python",
   "name": "python",
   "nbconvert_exporter": "python",
   "pygments_lexer": "ipython3",
   "version": "3.12.3"
  }
 },
 "nbformat": 4,
 "nbformat_minor": 5
}
