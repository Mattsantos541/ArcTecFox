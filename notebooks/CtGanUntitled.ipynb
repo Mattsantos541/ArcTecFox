{
 "cells": [
  {
   "cell_type": "markdown",
   "id": "fd6e7b3b-cd31-4783-a41e-d094b4f8af6a",
   "metadata": {},
   "source": [
    "pip install pandas numpy tensorflow ctgan scikit-learn scipy\n"
   ]
  },
  {
   "cell_type": "code",
   "execution_count": null,
   "id": "0533e1dc-b4dc-41a3-8265-7ad80074ad98",
   "metadata": {},
   "outputs": [],
   "source": [
    "pip install numpy scipy"
   ]
  },
  {
   "cell_type": "markdown",
   "id": "7b2285de-07cf-49bd-8d60-53ba0167c27d",
   "metadata": {},
   "source": [
    "1. Data preparation\n",
    "2. Training the CTGAN model\n",
    "3. Generating synthetic data\n",
    "4. Evaluating the synthetic data"
   ]
  },
  {
   "cell_type": "code",
   "execution_count": 1,
   "id": "cac0dbb4-129b-407f-823d-c94f88c77284",
   "metadata": {
    "scrolled": true
   },
   "outputs": [
    {
     "name": "stderr",
     "output_type": "stream",
     "text": [
      "/Library/Frameworks/Python.framework/Versions/3.12/lib/python3.12/site-packages/threadpoolctl.py:1214: RuntimeWarning: \n",
      "Found Intel OpenMP ('libiomp') and LLVM OpenMP ('libomp') loaded at\n",
      "the same time. Both libraries are known to be incompatible and this\n",
      "can cause random crashes or deadlocks on Linux when loaded in the\n",
      "same Python program.\n",
      "Using threadpoolctl may cause crashes or deadlocks. For more\n",
      "information and possible workarounds, please see\n",
      "    https://github.com/joblib/threadpoolctl/blob/master/multiple_openmp.md\n",
      "\n",
      "  warnings.warn(msg, RuntimeWarning)\n"
     ]
    },
    {
     "ename": "ImportError",
     "evalue": "cannot import name 'CTGANSynthesizer' from 'ctgan' (/Library/Frameworks/Python.framework/Versions/3.12/lib/python3.12/site-packages/ctgan/__init__.py)",
     "output_type": "error",
     "traceback": [
      "\u001b[0;31m---------------------------------------------------------------------------\u001b[0m",
      "\u001b[0;31mImportError\u001b[0m                               Traceback (most recent call last)",
      "Cell \u001b[0;32mIn[1], line 6\u001b[0m\n\u001b[1;32m      4\u001b[0m \u001b[38;5;28;01mimport\u001b[39;00m \u001b[38;5;21;01mpandas\u001b[39;00m \u001b[38;5;28;01mas\u001b[39;00m \u001b[38;5;21;01mpd\u001b[39;00m\n\u001b[1;32m      5\u001b[0m \u001b[38;5;28;01mimport\u001b[39;00m \u001b[38;5;21;01mnumpy\u001b[39;00m \u001b[38;5;28;01mas\u001b[39;00m \u001b[38;5;21;01mnp\u001b[39;00m\n\u001b[0;32m----> 6\u001b[0m \u001b[38;5;28;01mfrom\u001b[39;00m \u001b[38;5;21;01mctgan\u001b[39;00m \u001b[38;5;28;01mimport\u001b[39;00m CTGANSynthesizer  \u001b[38;5;66;03m# Ensure this import works\u001b[39;00m\n\u001b[1;32m      7\u001b[0m \u001b[38;5;28;01mfrom\u001b[39;00m \u001b[38;5;21;01msklearn\u001b[39;00m\u001b[38;5;21;01m.\u001b[39;00m\u001b[38;5;21;01mmodel_selection\u001b[39;00m \u001b[38;5;28;01mimport\u001b[39;00m train_test_split\n\u001b[1;32m      8\u001b[0m \u001b[38;5;28;01mfrom\u001b[39;00m \u001b[38;5;21;01msklearn\u001b[39;00m\u001b[38;5;21;01m.\u001b[39;00m\u001b[38;5;21;01mensemble\u001b[39;00m \u001b[38;5;28;01mimport\u001b[39;00m RandomForestClassifier\n",
      "\u001b[0;31mImportError\u001b[0m: cannot import name 'CTGANSynthesizer' from 'ctgan' (/Library/Frameworks/Python.framework/Versions/3.12/lib/python3.12/site-packages/ctgan/__init__.py)"
     ]
    }
   ],
   "source": [
    "import os\n",
    "os.environ[\"MKL_THREADING_LAYER\"] = \"GNU\"\n",
    "\n",
    "import pandas as pd\n",
    "import numpy as np\n",
    "from ctgan import CTGANSynthesizer  # Ensure this import works\n",
    "from sklearn.model_selection import train_test_split\n",
    "from sklearn.ensemble import RandomForestClassifier\n",
    "from sklearn.metrics import accuracy_score, roc_auc_score, f1_score\n",
    "from scipy.stats import ks_2samp, chi2_contingency\n",
    "import time"
   ]
  },
  {
   "cell_type": "code",
   "execution_count": null,
   "id": "d3224663-78b1-4c6d-b763-9a473b7f788f",
   "metadata": {},
   "outputs": [],
   "source": [
    "from ctgan import CTGANSynthesizer"
   ]
  },
  {
   "cell_type": "code",
   "execution_count": null,
   "id": "7cbda494-260b-4e18-9f94-9c2a5804936f",
   "metadata": {},
   "outputs": [],
   "source": []
  }
 ],
 "metadata": {
  "kernelspec": {
   "display_name": "Python 3 (ipykernel)",
   "language": "python",
   "name": "python3"
  },
  "language_info": {
   "codemirror_mode": {
    "name": "ipython",
    "version": 3
   },
   "file_extension": ".py",
   "mimetype": "text/x-python",
   "name": "python",
   "nbconvert_exporter": "python",
   "pygments_lexer": "ipython3",
   "version": "3.12.3"
  }
 },
 "nbformat": 4,
 "nbformat_minor": 5
}
